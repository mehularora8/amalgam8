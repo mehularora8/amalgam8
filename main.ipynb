{
 "cells": [
  {
   "cell_type": "code",
   "execution_count": 2,
   "metadata": {
    "vscode": {
     "languageId": "powershell"
    }
   },
   "outputs": [
    {
     "name": "stdout",
     "output_type": "stream",
     "text": [
      "Requirement already satisfied: pydub in c:\\users\\arora\\appdata\\local\\programs\\python\\python311\\lib\\site-packages (0.25.1)\n",
      "Requirement already satisfied: librosa in c:\\users\\arora\\appdata\\local\\programs\\python\\python311\\lib\\site-packages (0.10.1)\n",
      "Requirement already satisfied: audioread>=2.1.9 in c:\\users\\arora\\appdata\\local\\programs\\python\\python311\\lib\\site-packages (from librosa) (3.0.1)\n",
      "Requirement already satisfied: numpy!=1.22.0,!=1.22.1,!=1.22.2,>=1.20.3 in c:\\users\\arora\\appdata\\local\\programs\\python\\python311\\lib\\site-packages (from librosa) (1.25.2)\n",
      "Requirement already satisfied: scipy>=1.2.0 in c:\\users\\arora\\appdata\\local\\programs\\python\\python311\\lib\\site-packages (from librosa) (1.11.2)\n",
      "Requirement already satisfied: scikit-learn>=0.20.0 in c:\\users\\arora\\appdata\\local\\programs\\python\\python311\\lib\\site-packages (from librosa) (1.3.2)\n",
      "Requirement already satisfied: joblib>=0.14 in c:\\users\\arora\\appdata\\local\\programs\\python\\python311\\lib\\site-packages (from librosa) (1.3.2)\n",
      "Requirement already satisfied: decorator>=4.3.0 in c:\\users\\arora\\appdata\\roaming\\python\\python311\\site-packages (from librosa) (5.1.1)\n",
      "Requirement already satisfied: numba>=0.51.0 in c:\\users\\arora\\appdata\\local\\programs\\python\\python311\\lib\\site-packages (from librosa) (0.59.1)\n",
      "Requirement already satisfied: soundfile>=0.12.1 in c:\\users\\arora\\appdata\\local\\programs\\python\\python311\\lib\\site-packages (from librosa) (0.12.1)\n",
      "Requirement already satisfied: pooch>=1.0 in c:\\users\\arora\\appdata\\local\\programs\\python\\python311\\lib\\site-packages (from librosa) (1.8.1)\n",
      "Requirement already satisfied: soxr>=0.3.2 in c:\\users\\arora\\appdata\\local\\programs\\python\\python311\\lib\\site-packages (from librosa) (0.3.7)\n",
      "Requirement already satisfied: typing-extensions>=4.1.1 in c:\\users\\arora\\appdata\\local\\programs\\python\\python311\\lib\\site-packages (from librosa) (4.12.2)\n",
      "Requirement already satisfied: lazy-loader>=0.1 in c:\\users\\arora\\appdata\\local\\programs\\python\\python311\\lib\\site-packages (from librosa) (0.4)\n",
      "Requirement already satisfied: msgpack>=1.0 in c:\\users\\arora\\appdata\\local\\programs\\python\\python311\\lib\\site-packages (from librosa) (1.0.8)\n",
      "Requirement already satisfied: packaging in c:\\users\\arora\\appdata\\local\\programs\\python\\python311\\lib\\site-packages (from lazy-loader>=0.1->librosa) (23.1)\n",
      "Requirement already satisfied: llvmlite<0.43,>=0.42.0dev0 in c:\\users\\arora\\appdata\\local\\programs\\python\\python311\\lib\\site-packages (from numba>=0.51.0->librosa) (0.42.0)\n",
      "Requirement already satisfied: platformdirs>=2.5.0 in c:\\users\\arora\\appdata\\local\\programs\\python\\python311\\lib\\site-packages (from pooch>=1.0->librosa) (3.11.0)\n",
      "Requirement already satisfied: requests>=2.19.0 in c:\\users\\arora\\appdata\\local\\programs\\python\\python311\\lib\\site-packages (from pooch>=1.0->librosa) (2.32.3)\n",
      "Requirement already satisfied: threadpoolctl>=2.0.0 in c:\\users\\arora\\appdata\\local\\programs\\python\\python311\\lib\\site-packages (from scikit-learn>=0.20.0->librosa) (3.2.0)\n",
      "Requirement already satisfied: cffi>=1.0 in c:\\users\\arora\\appdata\\local\\programs\\python\\python311\\lib\\site-packages (from soundfile>=0.12.1->librosa) (1.16.0)\n",
      "Requirement already satisfied: pycparser in c:\\users\\arora\\appdata\\local\\programs\\python\\python311\\lib\\site-packages (from cffi>=1.0->soundfile>=0.12.1->librosa) (2.22)\n",
      "Requirement already satisfied: charset-normalizer<4,>=2 in c:\\users\\arora\\appdata\\local\\programs\\python\\python311\\lib\\site-packages (from requests>=2.19.0->pooch>=1.0->librosa) (3.2.0)\n",
      "Requirement already satisfied: idna<4,>=2.5 in c:\\users\\arora\\appdata\\local\\programs\\python\\python311\\lib\\site-packages (from requests>=2.19.0->pooch>=1.0->librosa) (3.4)\n",
      "Requirement already satisfied: urllib3<3,>=1.21.1 in c:\\users\\arora\\appdata\\local\\programs\\python\\python311\\lib\\site-packages (from requests>=2.19.0->pooch>=1.0->librosa) (2.2.2)\n",
      "Requirement already satisfied: certifi>=2017.4.17 in c:\\users\\arora\\appdata\\local\\programs\\python\\python311\\lib\\site-packages (from requests>=2.19.0->pooch>=1.0->librosa) (2023.5.7)\n"
     ]
    },
    {
     "name": "stderr",
     "output_type": "stream",
     "text": [
      "\n",
      "[notice] A new release of pip is available: 23.1.2 -> 24.2\n",
      "[notice] To update, run: python.exe -m pip install --upgrade pip\n"
     ]
    }
   ],
   "source": [
    "!pip install pydub librosa "
   ]
  },
  {
   "cell_type": "code",
   "execution_count": 3,
   "metadata": {
    "vscode": {
     "languageId": "powershell"
    }
   },
   "outputs": [
    {
     "name": "stdout",
     "output_type": "stream",
     "text": [
      "Requirement already satisfied: openunmix in c:\\users\\arora\\appdata\\local\\programs\\python\\python311\\lib\\site-packages (1.3.0)\n",
      "Requirement already satisfied: soundfile in c:\\users\\arora\\appdata\\local\\programs\\python\\python311\\lib\\site-packages (0.12.1)\n",
      "Requirement already satisfied: numpy in c:\\users\\arora\\appdata\\local\\programs\\python\\python311\\lib\\site-packages (from openunmix) (1.25.2)\n",
      "Requirement already satisfied: torchaudio>=0.9.0 in c:\\users\\arora\\appdata\\local\\programs\\python\\python311\\lib\\site-packages (from openunmix) (2.1.0+cu118)\n",
      "Requirement already satisfied: torch>=1.9.0 in c:\\users\\arora\\appdata\\local\\programs\\python\\python311\\lib\\site-packages (from openunmix) (2.1.0+cu118)\n",
      "Requirement already satisfied: tqdm in c:\\users\\arora\\appdata\\local\\programs\\python\\python311\\lib\\site-packages (from openunmix) (4.66.1)\n",
      "Requirement already satisfied: cffi>=1.0 in c:\\users\\arora\\appdata\\local\\programs\\python\\python311\\lib\\site-packages (from soundfile) (1.16.0)\n",
      "Requirement already satisfied: pycparser in c:\\users\\arora\\appdata\\local\\programs\\python\\python311\\lib\\site-packages (from cffi>=1.0->soundfile) (2.22)\n",
      "Requirement already satisfied: filelock in c:\\users\\arora\\appdata\\local\\programs\\python\\python311\\lib\\site-packages (from torch>=1.9.0->openunmix) (3.12.4)\n",
      "Requirement already satisfied: typing-extensions in c:\\users\\arora\\appdata\\local\\programs\\python\\python311\\lib\\site-packages (from torch>=1.9.0->openunmix) (4.12.2)\n",
      "Requirement already satisfied: sympy in c:\\users\\arora\\appdata\\local\\programs\\python\\python311\\lib\\site-packages (from torch>=1.9.0->openunmix) (1.12)\n",
      "Requirement already satisfied: networkx in c:\\users\\arora\\appdata\\local\\programs\\python\\python311\\lib\\site-packages (from torch>=1.9.0->openunmix) (3.1)\n",
      "Requirement already satisfied: jinja2 in c:\\users\\arora\\appdata\\local\\programs\\python\\python311\\lib\\site-packages (from torch>=1.9.0->openunmix) (3.1.2)\n",
      "Requirement already satisfied: fsspec in c:\\users\\arora\\appdata\\local\\programs\\python\\python311\\lib\\site-packages (from torch>=1.9.0->openunmix) (2023.9.0)\n",
      "Requirement already satisfied: colorama in c:\\users\\arora\\appdata\\local\\programs\\python\\python311\\lib\\site-packages (from tqdm->openunmix) (0.4.6)\n",
      "Requirement already satisfied: MarkupSafe>=2.0 in c:\\users\\arora\\appdata\\local\\programs\\python\\python311\\lib\\site-packages (from jinja2->torch>=1.9.0->openunmix) (2.1.3)\n",
      "Requirement already satisfied: mpmath>=0.19 in c:\\users\\arora\\appdata\\local\\programs\\python\\python311\\lib\\site-packages (from sympy->torch>=1.9.0->openunmix) (1.3.0)\n"
     ]
    },
    {
     "name": "stderr",
     "output_type": "stream",
     "text": [
      "\n",
      "[notice] A new release of pip is available: 23.1.2 -> 24.2\n",
      "[notice] To update, run: python.exe -m pip install --upgrade pip\n"
     ]
    }
   ],
   "source": [
    "!pip install openunmix soundfile"
   ]
  },
  {
   "cell_type": "code",
   "execution_count": 4,
   "metadata": {
    "vscode": {
     "languageId": "powershell"
    }
   },
   "outputs": [
    {
     "name": "stdout",
     "output_type": "stream",
     "text": [
      "Looking in indexes: https://download.pytorch.org/whl/cu118\n",
      "Requirement already satisfied: torch in c:\\users\\arora\\appdata\\local\\programs\\python\\python311\\lib\\site-packages (2.1.0+cu118)\n",
      "Requirement already satisfied: torchvision in c:\\users\\arora\\appdata\\local\\programs\\python\\python311\\lib\\site-packages (0.16.0)\n",
      "Requirement already satisfied: torchaudio in c:\\users\\arora\\appdata\\local\\programs\\python\\python311\\lib\\site-packages (2.1.0+cu118)\n",
      "Requirement already satisfied: filelock in c:\\users\\arora\\appdata\\local\\programs\\python\\python311\\lib\\site-packages (from torch) (3.12.4)\n",
      "Requirement already satisfied: typing-extensions in c:\\users\\arora\\appdata\\local\\programs\\python\\python311\\lib\\site-packages (from torch) (4.12.2)\n",
      "Requirement already satisfied: sympy in c:\\users\\arora\\appdata\\local\\programs\\python\\python311\\lib\\site-packages (from torch) (1.12)\n",
      "Requirement already satisfied: networkx in c:\\users\\arora\\appdata\\local\\programs\\python\\python311\\lib\\site-packages (from torch) (3.1)\n",
      "Requirement already satisfied: jinja2 in c:\\users\\arora\\appdata\\local\\programs\\python\\python311\\lib\\site-packages (from torch) (3.1.2)\n",
      "Requirement already satisfied: fsspec in c:\\users\\arora\\appdata\\local\\programs\\python\\python311\\lib\\site-packages (from torch) (2023.9.0)\n",
      "Requirement already satisfied: numpy in c:\\users\\arora\\appdata\\local\\programs\\python\\python311\\lib\\site-packages (from torchvision) (1.25.2)\n",
      "Requirement already satisfied: requests in c:\\users\\arora\\appdata\\local\\programs\\python\\python311\\lib\\site-packages (from torchvision) (2.32.3)\n",
      "Requirement already satisfied: pillow!=8.3.*,>=5.3.0 in c:\\users\\arora\\appdata\\local\\programs\\python\\python311\\lib\\site-packages (from torchvision) (9.5.0)\n",
      "Requirement already satisfied: MarkupSafe>=2.0 in c:\\users\\arora\\appdata\\local\\programs\\python\\python311\\lib\\site-packages (from jinja2->torch) (2.1.3)\n",
      "Requirement already satisfied: charset-normalizer<4,>=2 in c:\\users\\arora\\appdata\\local\\programs\\python\\python311\\lib\\site-packages (from requests->torchvision) (3.2.0)\n",
      "Requirement already satisfied: idna<4,>=2.5 in c:\\users\\arora\\appdata\\local\\programs\\python\\python311\\lib\\site-packages (from requests->torchvision) (3.4)\n",
      "Requirement already satisfied: urllib3<3,>=1.21.1 in c:\\users\\arora\\appdata\\local\\programs\\python\\python311\\lib\\site-packages (from requests->torchvision) (2.2.2)\n",
      "Requirement already satisfied: certifi>=2017.4.17 in c:\\users\\arora\\appdata\\local\\programs\\python\\python311\\lib\\site-packages (from requests->torchvision) (2023.5.7)\n",
      "Requirement already satisfied: mpmath>=0.19 in c:\\users\\arora\\appdata\\local\\programs\\python\\python311\\lib\\site-packages (from sympy->torch) (1.3.0)\n"
     ]
    },
    {
     "name": "stderr",
     "output_type": "stream",
     "text": [
      "\n",
      "[notice] A new release of pip is available: 23.1.2 -> 24.2\n",
      "[notice] To update, run: python.exe -m pip install --upgrade pip\n"
     ]
    }
   ],
   "source": [
    "!pip3 install torch torchvision torchaudio --index-url https://download.pytorch.org/whl/cu118"
   ]
  },
  {
   "cell_type": "code",
   "execution_count": 5,
   "metadata": {},
   "outputs": [],
   "source": [
    "from pydub import AudioSegment\n",
    "import librosa"
   ]
  },
  {
   "cell_type": "code",
   "execution_count": 6,
   "metadata": {
    "vscode": {
     "languageId": "powershell"
    }
   },
   "outputs": [
    {
     "name": "stdout",
     "output_type": "stream",
     "text": [
      "ffmpeg version 2024-05-02-git-71669f2ad5-full_build-www.gyan.dev Copyright (c) 2000-2024 the FFmpeg developers\n",
      "built with gcc 13.2.0 (Rev5, Built by MSYS2 project)\n",
      "configuration: --enable-gpl --enable-version3 --enable-static --disable-w32threads --disable-autodetect --enable-fontconfig --enable-iconv --enable-gnutls --enable-libxml2 --enable-gmp --enable-bzlib --enable-lzma --enable-libsnappy --enable-zlib --enable-librist --enable-libsrt --enable-libssh --enable-libzmq --enable-avisynth --enable-libbluray --enable-libcaca --enable-sdl2 --enable-libaribb24 --enable-libaribcaption --enable-libdav1d --enable-libdavs2 --enable-libuavs3d --enable-libxevd --enable-libzvbi --enable-librav1e --enable-libsvtav1 --enable-libwebp --enable-libx264 --enable-libx265 --enable-libxavs2 --enable-libxeve --enable-libxvid --enable-libaom --enable-libjxl --enable-libopenjpeg --enable-libvpx --enable-mediafoundation --enable-libass --enable-frei0r --enable-libfreetype --enable-libfribidi --enable-libharfbuzz --enable-liblensfun --enable-libvidstab --enable-libvmaf --enable-libzimg --enable-amf --enable-cuda-llvm --enable-cuvid --enable-dxva2 --enable-d3d11va --enable-d3d12va --enable-ffnvcodec --enable-libvpl --enable-nvdec --enable-nvenc --enable-vaapi --enable-libshaderc --enable-vulkan --enable-libplacebo --enable-opencl --enable-libcdio --enable-libgme --enable-libmodplug --enable-libopenmpt --enable-libopencore-amrwb --enable-libmp3lame --enable-libshine --enable-libtheora --enable-libtwolame --enable-libvo-amrwbenc --enable-libcodec2 --enable-libilbc --enable-libgsm --enable-libopencore-amrnb --enable-libopus --enable-libspeex --enable-libvorbis --enable-ladspa --enable-libbs2b --enable-libflite --enable-libmysofa --enable-librubberband --enable-libsoxr --enable-chromaprint\n",
      "libavutil      59. 16.101 / 59. 16.101\n",
      "libavcodec     61.  5.103 / 61.  5.103\n",
      "libavformat    61.  3.103 / 61.  3.103\n",
      "libavdevice    61.  2.100 / 61.  2.100\n",
      "libavfilter    10.  2.101 / 10.  2.101\n",
      "libswscale      8.  2.100 /  8.  2.100\n",
      "libswresample   5.  2.100 /  5.  2.100\n",
      "libpostproc    58.  2.100 / 58.  2.100\n"
     ]
    }
   ],
   "source": [
    "!ffmpeg -version "
   ]
  },
  {
   "cell_type": "code",
   "execution_count": 7,
   "metadata": {},
   "outputs": [],
   "source": [
    "def calculate_bpm(file_path):\n",
    "    \"\"\"\n",
    "    Calculate the BPM of an audio file using librosa.\n",
    "\n",
    "    Args:\n",
    "    file_path (str): Path to the audio file.\n",
    "\n",
    "    Returns:\n",
    "    float: Estimated BPM of the audio.\n",
    "    \"\"\"\n",
    "    y, sr = librosa.load(file_path, sr=None)\n",
    "\n",
    "    onset_env = librosa.onset.onset_strength(y=y, sr=sr)\n",
    "\n",
    "    # Estimate the tempo\n",
    "    tempo, _ = librosa.beat.beat_track(onset_envelope=onset_env, sr=sr)\n",
    "\n",
    "    return tempo"
   ]
  },
  {
   "cell_type": "code",
   "execution_count": 8,
   "metadata": {},
   "outputs": [],
   "source": [
    "def change_bpm(audio, original_bpm, target_bpm):\n",
    "    \"\"\"\n",
    "    Changes the BPM of an audio file by adjusting the speed.\n",
    "    This will also change the pitch of the audio.\n",
    "\n",
    "    Args:\n",
    "    audio (AudioSegment): The audio segment to adjust.\n",
    "    original_bpm (float): The original BPM of the audio.\n",
    "    target_bpm (float): The target BPM to achieve.\n",
    "\n",
    "    Returns:\n",
    "    AudioSegment: The modified audio segment with new BPM.\n",
    "    \"\"\"\n",
    "    ratio = target_bpm / original_bpm\n",
    "\n",
    "    new_audio = audio.speedup(playback_speed=ratio)\n",
    "\n",
    "    return new_audio"
   ]
  },
  {
   "cell_type": "code",
   "execution_count": 10,
   "metadata": {},
   "outputs": [],
   "source": [
    "import torch\n",
    "import librosa\n",
    "import soundfile as sf\n",
    "from openunmix import predict\n",
    "import numpy as np\n",
    "\n",
    "def separate_vocals(input_file, output_dir):\n",
    "    # Load the audio file\n",
    "    audio, rate = librosa.load(input_file, sr=44100, mono=False)\n",
    "    \n",
    "    # If the audio is mono, convert it to stereo\n",
    "    if audio.ndim == 1:\n",
    "        audio = np.repeat(audio.reshape(1, -1), 2, axis=0)\n",
    "    \n",
    "    # Separate the audio\n",
    "    estimates = predict.separate(torch.tensor(audio[None]), rate=rate)\n",
    "    \n",
    "    # Save the separated tracks\n",
    "    for source, estimate in estimates.items():\n",
    "        sf.write(f\"{output_dir}/{source}.mp3\", estimate[0].T, rate)\n",
    "    \n",
    "    print(f\"Separated tracks saved in {output_dir}\")"
   ]
  },
  {
   "cell_type": "code",
   "execution_count": 11,
   "metadata": {},
   "outputs": [],
   "source": [
    "def overlay(trackList: list):\n",
    "    \"\"\"\n",
    "    Overlays multiple audio tracks together.\n",
    "\n",
    "    Args:\n",
    "    trackList (list): List of audio tracks to overlay.\n",
    "\n",
    "    Returns:\n",
    "    mixed_audio (AudioSegment): The mixed audio segment.\n",
    "    \"\"\"\n",
    "    audio = AudioSegment.from_file(trackList[0], \"mp3\")\n",
    "\n",
    "    for track in trackList[1:]:\n",
    "        audio2 = AudioSegment.from_file(track, \"mp3\")\n",
    "        audio = audio.overlay(audio2)\n",
    "\n",
    "    return audio"
   ]
  },
  {
   "cell_type": "code",
   "execution_count": 101,
   "metadata": {},
   "outputs": [],
   "source": [
    "import os \n",
    "\n",
    "def mix(track1, track2, track1_start, track1_duration, track2_mix_entry, track2_start, track2_duration, overlap_time, offset):\n",
    "    \"\"\"\n",
    "    Mixes two audio tracks together with a specified overlap time.\n",
    "\n",
    "    Args:\n",
    "    track1 (str): Path to the first audio track.\n",
    "    track2 (str): Path to the second audio track.\n",
    "    track1_duration (float): Duration of snippet from first track (in seconds). Includes duration to be used in the overlap.\n",
    "    track2_duration (float): Duration of snippet from first track (in seconds).\n",
    "    overlap_time (float): Duration of the overlap in seconds.\n",
    "    track1_start (float): Start time of the first track in seconds.\n",
    "    track2_start (float): Start time of the second track\n",
    "\n",
    "    Intermediary Values:\n",
    "    mix: Fadeout of Song 1 + Overlay + Fadein of Song 2\n",
    "\n",
    "\n",
    "    Returns:\n",
    "    final_mix (AudioSegment): The mixed audio segment.\n",
    "    \"\"\"\n",
    "    audio1 = AudioSegment.from_file(track1, \"wav\")\n",
    "    audio2 = AudioSegment.from_file(track2, \"wav\")\n",
    "\n",
    "    rampup = audio1[track1_start: track1_start + track1_duration - overlap_time]\n",
    "\n",
    "    if not os.path.exists(\"t1/vocals.mp3\"):\n",
    "        separate_vocals(track1, \"t1\")\n",
    "    if not os.path.exists(\"t2/vocals.mp3\"):\n",
    "        separate_vocals(track2, \"t2\")\n",
    "\n",
    "    t1_vocals = AudioSegment.from_file(\"t1/vocals.mp3\", \"mp3\")\n",
    "    t2_music = overlay(['t2/bass.mp3', 't2/drums.mp3', 't2/other.mp3'])\n",
    "    \n",
    "    # 20,800 to 28,000 is the rampdown\n",
    "    rampdown = audio2[track2_start: track2_start + track2_duration]\n",
    "\n",
    "    # fade_out = audio1 fading out + 0 decibel sound until the end of overlap\n",
    "    mix_vocals = t1_vocals[track1_start + track1_duration - overlap_time: track1_start + track1_duration]\n",
    "    mix_music = AudioSegment.silent(duration=offset) + t2_music[track2_mix_entry: track2_mix_entry + overlap_time - offset]\n",
    "    mix_audio = mix_music.overlay(mix_vocals)\n",
    "    \n",
    "    combined_mix = rampup + mix_audio + rampdown\n",
    "\n",
    "    return combined_mix"
   ]
  },
  {
   "cell_type": "code",
   "execution_count": 103,
   "metadata": {},
   "outputs": [
    {
     "data": {
      "text/plain": [
       "<_io.BufferedRandom name='baby-dk.mp3'>"
      ]
     },
     "execution_count": 103,
     "metadata": {},
     "output_type": "execute_result"
    }
   ],
   "source": [
    "mix(\"baby.mp4\", \"dk.mp4\", track1_start = 2200, track1_duration=20100, track2_mix_entry = 6100, track2_start = 20800, track2_duration=8500, overlap_time=15450, offset=800).export(\"baby-dk.mp3\", format=\"mp3\")"
   ]
  }
 ],
 "metadata": {
  "kernelspec": {
   "display_name": "Python 3",
   "language": "python",
   "name": "python3"
  },
  "language_info": {
   "codemirror_mode": {
    "name": "ipython",
    "version": 3
   },
   "file_extension": ".py",
   "mimetype": "text/x-python",
   "name": "python",
   "nbconvert_exporter": "python",
   "pygments_lexer": "ipython3",
   "version": "3.11.4"
  }
 },
 "nbformat": 4,
 "nbformat_minor": 2
}
